{
  "cells": [
    {
      "cell_type": "markdown",
      "metadata": {
        "id": "jClNjjBZP9v4"
      },
      "source": [
        "# Import Libraries"
      ]
    },
    {
      "cell_type": "code",
      "execution_count": 1,
      "metadata": {
        "id": "NQGayPObP8ID"
      },
      "outputs": [],
      "source": [
        "import numpy as np\n",
        "import pandas as pd\n",
        "import matplotlib.pyplot as plt\n",
        "import seaborn as sns\n",
        "from sklearn.model_selection import train_test_split\n",
        "from sklearn.linear_model import LinearRegression, Ridge, Lasso\n",
        "from sklearn.metrics import mean_absolute_error, mean_squared_error, r2_score\n",
        "from sklearn.preprocessing import StandardScaler, OneHotEncoder, PolynomialFeatures\n",
        "from sklearn.compose import ColumnTransformer\n",
        "from sklearn.pipeline import Pipeline\n",
        "from sklearn.impute import SimpleImputer"
      ]
    },
    {
      "cell_type": "markdown",
      "metadata": {
        "id": "DqfyvYeWQC9O"
      },
      "source": [
        "# Load Dataset\n"
      ]
    },
    {
      "cell_type": "code",
      "execution_count": null,
      "metadata": {
        "colab": {
          "base_uri": "https://localhost:8080/",
          "height": 224
        },
        "id": "svWinyKDQn2R",
        "outputId": "9f328578-aeda-4239-fc9a-2ce083474bde"
      },
      "outputs": [],
      "source": [
        "df = pd.read_csv(\"Datasets/car_price_dataset.csv\")\n",
        "df.head()"
      ]
    },
    {
      "cell_type": "markdown",
      "metadata": {
        "id": "VKgS0bATR6tv"
      },
      "source": [
        "# Preprocessing"
      ]
    },
    {
      "cell_type": "code",
      "execution_count": null,
      "metadata": {
        "id": "Is4Kzd78YfyZ"
      },
      "outputs": [],
      "source": [
        "df.isnull().sum()"
      ]
    },
    {
      "cell_type": "code",
      "execution_count": null,
      "metadata": {
        "id": "cCNBcRDYRIJm"
      },
      "outputs": [],
      "source": [
        "df.describe()"
      ]
    },
    {
      "cell_type": "code",
      "execution_count": null,
      "metadata": {
        "id": "W5wQ6d9ERzzM"
      },
      "outputs": [],
      "source": [
        "df.info()"
      ]
    },
    {
      "cell_type": "code",
      "execution_count": 6,
      "metadata": {
        "id": "fAr3GrY5R-uA"
      },
      "outputs": [],
      "source": [
        "# Replace 'Year' with 'Car_Age' feature\n",
        "current_year = 2025\n",
        "df['Car_Age'] = current_year - df['Year']\n",
        "X = df.drop(columns=['Price', 'Year'])\n",
        "y = df['Price']\n",
        "\n",
        "# Columns that need encoding\n",
        "categorical_features = ['Brand', 'Model', 'Fuel_Type', 'Transmission']\n",
        "# Columns that need scaling\n",
        "numerical_features = ['Engine_Size', 'Mileage', 'Doors', 'Owner_Count']\n",
        "\n",
        "# Preprocessing using ColumnTransformer\n",
        "preprocessor = ColumnTransformer(\n",
        "    transformers=[\n",
        "                    ('num', Pipeline([\n",
        "                        ('imputer', SimpleImputer(strategy='mean')),\n",
        "                        ('scaler', StandardScaler())\n",
        "                    ]), numerical_features),\n",
        "                    ('cat', Pipeline([\n",
        "                        ('imputer', SimpleImputer(strategy='most_frequent')),\n",
        "                        ('onehot', OneHotEncoder(drop='first'))\n",
        "                    ]), categorical_features)\n",
        "])\n",
        "\n",
        "# Split the data into training and testing sets\n",
        "X_train, X_test, y_train, y_test = train_test_split(X, y, test_size=0.2, random_state=42)"
      ]
    },
    {
      "cell_type": "markdown",
      "metadata": {
        "id": "Z9fSFjC_YZ6N"
      },
      "source": [
        "# Model Training"
      ]
    },
    {
      "cell_type": "code",
      "execution_count": null,
      "metadata": {
        "colab": {
          "base_uri": "https://localhost:8080/",
          "height": 286
        },
        "id": "RTCeznwjYdUy",
        "outputId": "2a5a8679-ccd9-434b-f3be-f0b6bb59e55f"
      },
      "outputs": [],
      "source": [
        "# Pipeline with preprocessor and LinearRegression model\n",
        "model = Pipeline([('preprocessor', preprocessor),\n",
        "                  ('regressor', LinearRegression())\n",
        "])\n",
        "\n",
        "# Fit the model\n",
        "model.fit(X_train, y_train)"
      ]
    },
    {
      "cell_type": "markdown",
      "metadata": {
        "id": "5wjx-_vAYm63"
      },
      "source": [
        "# Predictions"
      ]
    },
    {
      "cell_type": "code",
      "execution_count": null,
      "metadata": {
        "colab": {
          "base_uri": "https://localhost:8080/",
          "height": 204
        },
        "id": "hIvmWmnMYmhj",
        "outputId": "6d2b3bd2-d8bc-4749-c8e9-b29ae6e0589f"
      },
      "outputs": [],
      "source": [
        "# Predict Prices\n",
        "y_pred = model.predict(X_test)\n",
        "\n",
        "# Compare actual vs predicted\n",
        "df_results = pd.DataFrame({'Actual': y_test, \"Predicted\": y_pred})\n",
        "df_results.head()"
      ]
    },
    {
      "cell_type": "markdown",
      "metadata": {
        "id": "YPsp29KrY9gI"
      },
      "source": [
        "# Model Evaluation"
      ]
    },
    {
      "cell_type": "code",
      "execution_count": null,
      "metadata": {
        "colab": {
          "base_uri": "https://localhost:8080/"
        },
        "id": "qSNIeEmoY__X",
        "outputId": "7c7aafc6-aa51-4aa5-984b-82ba7199ca52"
      },
      "outputs": [],
      "source": [
        "mae = mean_absolute_error(y_test, y_pred)\n",
        "mse = mean_squared_error(y_test, y_pred)\n",
        "rmse = np.sqrt(mse)\n",
        "r2 = r2_score(y_test, y_pred)\n",
        "\n",
        "print(f\"Mean Absolute Error: {mae: .2f}\")\n",
        "print(f\"Mean Squared Error: {mse: .2f}\")\n",
        "print(f\"Root Mean Squared Error: {rmse: .2f}\")\n",
        "print(f\"R^2 Score: {r2: .4f}\")"
      ]
    },
    {
      "cell_type": "markdown",
      "metadata": {
        "id": "6lBoy3XDZgwT"
      },
      "source": [
        "# Visualize Predictions"
      ]
    },
    {
      "cell_type": "code",
      "execution_count": null,
      "metadata": {
        "colab": {
          "base_uri": "https://localhost:8080/",
          "height": 475
        },
        "id": "BQeEMWggZgYy",
        "outputId": "065d37c2-1e3d-440d-ab24-c856fe8679c7"
      },
      "outputs": [],
      "source": [
        "plt.figure(figsize=(10,6))\n",
        "sns.scatterplot(x=y_test, y=y_pred, alpha=0.6)\n",
        "plt.xlabel(\"Actual Prices\")\n",
        "plt.ylabel(\"Predicted Prices\")\n",
        "plt.title(\"Actual vs Predicted Prices\")\n",
        "plt.show()"
      ]
    },
    {
      "cell_type": "markdown",
      "metadata": {},
      "source": [
        "# Improving Linear Regression"
      ]
    },
    {
      "cell_type": "markdown",
      "metadata": {},
      "source": [
        "1.   **Feature Engineering:** Adding new features\n",
        "2.   **Polynomial Regression:** Adding non-linearity\n",
        "3.   **Regularization:** Ridge and Lasso Regression"
      ]
    },
    {
      "cell_type": "markdown",
      "metadata": {},
      "source": [
        "#### Polynomial Regression"
      ]
    },
    {
      "cell_type": "code",
      "execution_count": 11,
      "metadata": {},
      "outputs": [],
      "source": [
        "# Apply Polynomial Regression to numerical features\n",
        "preprocessor = ColumnTransformer(\n",
        "    transformers=[\n",
        "                    ('num', Pipeline([\n",
        "                        ('imputer', SimpleImputer(strategy='mean')),\n",
        "                        ('scaler', StandardScaler()),\n",
        "                        ('poly', PolynomialFeatures(degree=2, include_bias=False))\n",
        "                    ]), numerical_features),\n",
        "                    ('cat', Pipeline([\n",
        "                        ('imputer', SimpleImputer(strategy='most_frequent')),\n",
        "                        ('onehot', OneHotEncoder(drop='first'))\n",
        "                    ]), categorical_features)\n",
        "])"
      ]
    },
    {
      "cell_type": "code",
      "execution_count": null,
      "metadata": {},
      "outputs": [],
      "source": [
        "# Pipeline with preprocessor and LinearRegression model\n",
        "poly_model = Pipeline([('preprocessor', preprocessor),\n",
        "                  ('regressor', LinearRegression())\n",
        "])\n",
        "\n",
        "# Fit the model\n",
        "poly_model.fit(X_train, y_train)"
      ]
    },
    {
      "cell_type": "code",
      "execution_count": null,
      "metadata": {},
      "outputs": [],
      "source": [
        "# Predict Prices\n",
        "poly_y_pred = poly_model.predict(X_test)\n",
        "\n",
        "# Compare actual vs predicted\n",
        "df_results = pd.DataFrame({'Actual': y_test, \"Predicted\": poly_y_pred})\n",
        "df_results.head()"
      ]
    },
    {
      "cell_type": "markdown",
      "metadata": {},
      "source": [
        "#### Regularization-Ridge"
      ]
    },
    {
      "cell_type": "code",
      "execution_count": 14,
      "metadata": {},
      "outputs": [],
      "source": [
        "preprocessor = ColumnTransformer(\n",
        "    transformers=[\n",
        "                    ('num', Pipeline([\n",
        "                        ('imputer', SimpleImputer(strategy='mean')),\n",
        "                        ('scaler', StandardScaler())\n",
        "                    ]), numerical_features),\n",
        "                    ('cat', Pipeline([\n",
        "                        ('imputer', SimpleImputer(strategy='most_frequent')),\n",
        "                        ('onehot', OneHotEncoder(drop='first'))\n",
        "                    ]), categorical_features)\n",
        "])"
      ]
    },
    {
      "cell_type": "code",
      "execution_count": null,
      "metadata": {},
      "outputs": [],
      "source": [
        "ridge_model = Pipeline([('preprocessor', preprocessor),\n",
        "                  ('regressor', Ridge(alpha=10))\n",
        "])\n",
        "\n",
        "# Fit the model\n",
        "ridge_model.fit(X_train, y_train)"
      ]
    },
    {
      "cell_type": "code",
      "execution_count": null,
      "metadata": {},
      "outputs": [],
      "source": [
        "# Predict Prices\n",
        "ridge_y_pred = ridge_model.predict(X_test)\n",
        "\n",
        "# Compare actual vs predicted\n",
        "df_results = pd.DataFrame({'Actual': y_test, \"Predicted\": ridge_y_pred})\n",
        "df_results.head()"
      ]
    },
    {
      "cell_type": "markdown",
      "metadata": {},
      "source": [
        "#### Regularization-Lasso"
      ]
    },
    {
      "cell_type": "code",
      "execution_count": 17,
      "metadata": {},
      "outputs": [],
      "source": [
        "preprocessor = ColumnTransformer(\n",
        "    transformers=[\n",
        "                    ('num', Pipeline([\n",
        "                        ('imputer', SimpleImputer(strategy='mean')),\n",
        "                        ('scaler', StandardScaler())\n",
        "                    ]), numerical_features),\n",
        "                    ('cat', Pipeline([\n",
        "                        ('imputer', SimpleImputer(strategy='most_frequent')),\n",
        "                        ('onehot', OneHotEncoder(drop='first'))\n",
        "                    ]), categorical_features)\n",
        "])"
      ]
    },
    {
      "cell_type": "code",
      "execution_count": null,
      "metadata": {},
      "outputs": [],
      "source": [
        "lasso_model = Pipeline([('preprocessor', preprocessor),\n",
        "                  ('regressor', Lasso(alpha=10))\n",
        "])\n",
        "\n",
        "# Fit the model\n",
        "lasso_model.fit(X_train, y_train)"
      ]
    },
    {
      "cell_type": "code",
      "execution_count": null,
      "metadata": {},
      "outputs": [],
      "source": [
        "# Predict Prices\n",
        "lasso_y_pred = lasso_model.predict(X_test)\n",
        "\n",
        "# Compare actual vs predicted\n",
        "df_results = pd.DataFrame({'Actual': y_test, \"Predicted\": lasso_y_pred})\n",
        "df_results.head()"
      ]
    },
    {
      "cell_type": "markdown",
      "metadata": {},
      "source": [
        "# Improved Models Evaluation"
      ]
    },
    {
      "cell_type": "code",
      "execution_count": null,
      "metadata": {},
      "outputs": [],
      "source": [
        "poly_r2 = r2_score(y_test, poly_y_pred)\n",
        "ridge_r2 = r2_score(y_test, ridge_y_pred)\n",
        "lasso_r2 = r2_score(y_test, lasso_y_pred)\n",
        "\n",
        "print(f\"Polynomial Features Model R^2 Score: {poly_r2: .4f}\")\n",
        "print(f\"Ridge R^2 Score: {ridge_r2: .4f}\")\n",
        "print(f\"Lasso R^2 Score: {lasso_r2: .4f}\")"
      ]
    },
    {
      "cell_type": "code",
      "execution_count": null,
      "metadata": {},
      "outputs": [],
      "source": [
        "y_pred_arr = [poly_y_pred, ridge_y_pred, lasso_y_pred]\n",
        "models = [\"Polynomial Features\", \"Ridge\", \"Lasso\"]\n",
        "plt.figure(figsize=(10,30))\n",
        "for i in range(3):\n",
        "  plt.subplot(3,1,i+1)\n",
        "  sns.scatterplot(x=y_test, y=y_pred_arr[i], alpha=0.6)\n",
        "  plt.xlabel(\"Actual Prices\")\n",
        "  plt.ylabel(\"Predicted Prices\")\n",
        "  plt.title(f\"Actual vs Predicted Prices {models[i]}\")\n",
        "plt.show()"
      ]
    }
  ],
  "metadata": {
    "accelerator": "GPU",
    "colab": {
      "gpuType": "T4",
      "provenance": []
    },
    "kernelspec": {
      "display_name": "ml-demo",
      "language": "python",
      "name": "python3"
    },
    "language_info": {
      "codemirror_mode": {
        "name": "ipython",
        "version": 3
      },
      "file_extension": ".py",
      "mimetype": "text/x-python",
      "name": "python",
      "nbconvert_exporter": "python",
      "pygments_lexer": "ipython3",
      "version": "3.9.21"
    }
  },
  "nbformat": 4,
  "nbformat_minor": 0
}
